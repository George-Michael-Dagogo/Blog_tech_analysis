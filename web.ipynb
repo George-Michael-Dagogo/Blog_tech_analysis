{
 "cells": [
  {
   "cell_type": "code",
   "execution_count": 1,
   "metadata": {},
   "outputs": [],
   "source": [
    "from selenium.webdriver import Chrome\n",
    "from selenium.webdriver.support.ui import Select\n",
    "from selenium.webdriver.support.ui import WebDriverWait\n",
    "from selenium.webdriver.common.by import By\n",
    "from selenium import webdriver\n",
    "from selenium.webdriver.chrome.options import Options\n",
    "from selenium.webdriver.support import expected_conditions as EC\n",
    "from fake_useragent import UserAgent\n",
    "from selenium.webdriver.common.desired_capabilities import DesiredCapabilities\n",
    "import time\n",
    "import pandas as pd\n",
    "import os\n",
    "import requests\n",
    "import re"
   ]
  },
  {
   "cell_type": "markdown",
   "metadata": {},
   "source": [
    "### The Punch Newspaper"
   ]
  },
  {
   "cell_type": "code",
   "execution_count": 24,
   "metadata": {
    "scrolled": false
   },
   "outputs": [],
   "source": [
    "def punch_news():\n",
    "    options = Options()\n",
    "    ua = UserAgent()\n",
    "    userAgent = ua.random\n",
    "    options.add_argument(f'user-agent={userAgent}')\n",
    "\n",
    "    c = DesiredCapabilities.CHROME\n",
    "    c[\"pageLoadStrategy\"] = \"none\"\n",
    "    #set chromodriver.exe path\n",
    "    driver = webdriver.Chrome(r'C:\\Users\\HP\\Downloads\\news\\News_station_analysis\\chromedriver.exe',desired_capabilities=c)\n",
    "    #explicit wait\n",
    "    w = WebDriverWait(driver, 20)\n",
    "    #launch URL\n",
    "    driver.get(\"https://punchng.com/topics/news/\")\n",
    "    driver.implicitly_wait(20)\n",
    "    time.sleep(3)\n",
    "    #driver.implicitly_wait(20)\n",
    "    #expected condition\n",
    "    w.until(EC.presence_of_element_located((By.CLASS_NAME, 'post-title')))\n",
    "    #JavaScript Executor to stop page load\n",
    "\n",
    "    driver.execute_script(\"window.stop();\")\n",
    "    print('First huddle')\n",
    "\n",
    "    content = []\n",
    "    contents =driver.find_elements_by_class_name(\"post-title\")\n",
    "    for con in contents:\n",
    "        cont = con.get_attribute('innerHTML')\n",
    "        content.append(cont)\n",
    "    af = pd.DataFrame(content,columns =['content'])\n",
    "    af.content = af.content.apply(lambda x: x.replace('<a href=', ''))\n",
    "    af.content = af.content.apply(lambda x: x.replace('</a>', ''))\n",
    "    af.content = af.content.apply(lambda x: x.replace('>', '|'))\n",
    "    af = af['content'].str.split(\"|\",n = 3, expand = True)\n",
    "    af.columns = ['link','title']\n",
    "    af = af.drop_duplicates(subset=[\"link\"], keep='first')\n",
    "    print('Second huddle')\n",
    "    full_contents = []\n",
    "    dates = []\n",
    "    by = []\n",
    "    def all_news(ev):\n",
    "        h = WebDriverWait(driver, 20)\n",
    "        full = []\n",
    "        timed = []\n",
    "        print('Pages extraction in progress')\n",
    "\n",
    "        driver.get(ev)\n",
    "        time.sleep(4)\n",
    "        driver.implicitly_wait(20)\n",
    "        h.until(EC.presence_of_element_located((By.CLASS_NAME, 'post-content')))\n",
    "        #JavaScript Executor to stop page load\n",
    "        driver.execute_script(\"window.stop();\")\n",
    "        full_content = driver.find_elements_by_class_name(\"post-content\")\n",
    "        for conten in full_content:\n",
    "            co = conten.get_attribute('innerText')\n",
    "            co1 = co.replace('\\n\\n',' ')\n",
    "            co2 = co1.replace('\\n',' ')\n",
    "            co3 = co2.split(',', 1)\n",
    "            full.append(co3)\n",
    "\n",
    "        date = driver.find_elements_by_class_name(\"col-lg-4\")\n",
    "        for dat in date:\n",
    "            dat1= dat.get_attribute('innerText')\n",
    "            dat2 = dat1.replace('By\\xa0\\n','')\n",
    "            timed.append(dat2)\n",
    "        full_contents.append(full[0])\n",
    "        dates.append(timed[0])\n",
    "        by.append(timed[1])\n",
    "\n",
    "    m =af.link.to_list()\n",
    "    m =  [item.replace('\"', '') for item in m]\n",
    "    for o in m:\n",
    "        all_news(o)\n",
    "\n",
    "    driver.quit()\n",
    "\n",
    "    aa = pd.DataFrame({'Title':af.title,'Full_content': full_contents,'Date':dates,'Author':by,'Source_link':af.link})\n",
    "    ff  =aa['Full_content'].apply(lambda x: ' '.join(dict.fromkeys(x).keys()))#unlist the full_content column\n",
    "\n",
    "    aa['Words_count'] = ff.str.split().str.len()#counts the full_content\n",
    "    n = open(\"negative-words.txt\", \"r\")\n",
    "    p = open(\"positive-words.txt\", \"r\")\n",
    "    n_word = n.read()\n",
    "    p_word = p.read()\n",
    "    n.close()\n",
    "    p.close\n",
    "    n_word=n_word.replace('\\n',',')\n",
    "    n_word = re.sub(\"[^\\w]\", \" \", n_word).split()\n",
    "    p_word=p_word.replace('\\n',',')\n",
    "    p_word = re.sub(\"[^\\w]\", \" \", p_word).split()\n",
    "    aa['Full_content'] = ff\n",
    "    #df['word_overlap'] = [set(x[0].split()) & set(x[1].split()) for x in df.values]\n",
    "    def negative_words(x):\n",
    "        negative_score = 0\n",
    "        for word in n_word:\n",
    "            if word in x:\n",
    "                negative_score += 1\n",
    "        return negative_score\n",
    "\n",
    "    def positive_words(x):\n",
    "        positive_score = 0\n",
    "        for word in p_word:\n",
    "            if word in x:\n",
    "                positive_score += 1\n",
    "        return positive_score\n",
    "    aa['Negative_words'] = aa['Full_content'].apply(lambda x : negative_words(x))\n",
    "    aa['Positive_words'] = aa['Full_content'].apply(lambda x : positive_words(x))\n",
    "    aa['Sentence_count'] = aa['Full_content'].str.count('[\\w][\\.!\\?]')\n",
    "    aa['Sentiment'] = round((aa['Positive_words'] - aa['Negative_words']) / aa['Words_count'], 2)\n",
    "    aa['News_type'] = ['Bad News' if x < 0 else 'Good News' if x > 0 else 'Neutral' for x in aa.Sentiment]\n",
    "    return aa"
   ]
  },
  {
   "cell_type": "code",
   "execution_count": null,
   "metadata": {},
   "outputs": [],
   "source": [
    "punch_news()"
   ]
  },
  {
   "cell_type": "code",
   "execution_count": 31,
   "metadata": {},
   "outputs": [
    {
     "name": "stderr",
     "output_type": "stream",
     "text": [
      "error: src refspec master does not match any\n",
      "error: failed to push some refs to 'https://github.com/George-Michael-Dagogo/News_station_analysis'\n"
     ]
    }
   ],
   "source": [
    "!git push origin master\n"
   ]
  },
  {
   "cell_type": "code",
   "execution_count": null,
   "metadata": {},
   "outputs": [],
   "source": []
  }
 ],
 "metadata": {
  "kernelspec": {
   "display_name": "Python 3",
   "language": "python",
   "name": "python3"
  },
  "language_info": {
   "codemirror_mode": {
    "name": "ipython",
    "version": 3
   },
   "file_extension": ".py",
   "mimetype": "text/x-python",
   "name": "python",
   "nbconvert_exporter": "python",
   "pygments_lexer": "ipython3",
   "version": "3.7.6"
  }
 },
 "nbformat": 4,
 "nbformat_minor": 4
}
